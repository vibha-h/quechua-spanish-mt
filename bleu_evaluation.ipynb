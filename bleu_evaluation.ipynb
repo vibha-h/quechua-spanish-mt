{
 "cells": [
  {
   "cell_type": "code",
   "execution_count": 2,
   "id": "877a3e58-74a5-422e-9d03-92bbae7b8998",
   "metadata": {},
   "outputs": [
    {
     "name": "stderr",
     "output_type": "stream",
     "text": [
      "Device set to use cuda:0\n",
      "Your input_length: 27 is bigger than 0.9 * max_length: 20. You might consider increasing your max_length manually, e.g. translator('...', max_length=400)\n",
      "Device set to use cuda:0\n",
      "Device set to use cuda:0\n",
      "Device set to use cuda:0\n",
      "Your input_length: 39 is bigger than 0.9 * max_length: 20. You might consider increasing your max_length manually, e.g. translator('...', max_length=400)\n",
      "Device set to use cuda:0\n",
      "Your input_length: 28 is bigger than 0.9 * max_length: 20. You might consider increasing your max_length manually, e.g. translator('...', max_length=400)\n",
      "Device set to use cuda:0\n",
      "Your input_length: 29 is bigger than 0.9 * max_length: 20. You might consider increasing your max_length manually, e.g. translator('...', max_length=400)\n",
      "Device set to use cuda:0\n",
      "Your input_length: 45 is bigger than 0.9 * max_length: 20. You might consider increasing your max_length manually, e.g. translator('...', max_length=400)\n",
      "Device set to use cuda:0\n",
      "Your input_length: 33 is bigger than 0.9 * max_length: 20. You might consider increasing your max_length manually, e.g. translator('...', max_length=400)\n",
      "Device set to use cuda:0\n",
      "Your input_length: 24 is bigger than 0.9 * max_length: 20. You might consider increasing your max_length manually, e.g. translator('...', max_length=400)\n",
      "Device set to use cuda:0\n",
      "Your input_length: 19 is bigger than 0.9 * max_length: 20. You might consider increasing your max_length manually, e.g. translator('...', max_length=400)\n"
     ]
    }
   ],
   "source": [
    "# %% Test translating a sentence\n",
    "phrase1 = \"translate Quechua to Spanish: ñuqa aycha-ta-m miku-ni\"\n",
    "phrase2 = \"translate Quechua to Spanish: Pitaq kanki?\"\n",
    "phrase3 = \"translate Quechua to Spanish: Yachay wasinchikpi\"\n",
    "phrase4 = \"translate Quechua to Spanish: Yachachiq yachachisqakunapas yachay wasi ukupi kachkanku.\"\n",
    "phrase5 = \"translate Quechua to Spanish: Allinllam, yachachiqniy, qamrí?\"\n",
    "phrase6 = \"translate Quechua to Spanish: Ñuqataq San Isidropi tiyachkani.\"\n",
    "phrase7 = \"translate Quechua to Spanish: Ñuqaqa mamaypaq yanuqmi kani, qamrí, yaw Ricardo?\"\n",
    "phrase8 = \"translate Quechua to Spanish: Arí, ñuqaqa futbolpi pukllaqmi kani.\"\n",
    "phrase9 = \"translate Quechua to Spanish: Haykaptaq qawaytarí tukunki?\"\n",
    "phrase10 = \"translate Quechua to Spanish: Imaynataq kachkan?\"\n",
    "modelTranslations = []\n",
    "def parseResponse(response):\n",
    "    object = (response[0]).values()\n",
    "    for value in object:\n",
    "        modelTranslations.append(value.split())\n",
    "\n",
    "\n",
    "\n",
    "# Reference Translation: \"Jesús cumplió de forma sorprendente esta profecía durante su ministerio.\"\n",
    "from transformers import pipeline\n",
    "translator = pipeline(\"translation_qu_to_es\", model=\"checkpoint-5500\")\n",
    "parseResponse(translator(phrase1))\n",
    "\n",
    "translator = pipeline(\"translation_qu_to_es\", model=\"checkpoint-5500\")\n",
    "parseResponse(translator(phrase2))\n",
    "\n",
    "translator = pipeline(\"translation_qu_to_es\", model=\"checkpoint-5500\")\n",
    "parseResponse(translator(phrase3))\n",
    "\n",
    "translator = pipeline(\"translation_qu_to_es\", model=\"checkpoint-5500\")\n",
    "parseResponse(translator(phrase4))\n",
    "\n",
    "translator = pipeline(\"translation_qu_to_es\", model=\"checkpoint-5500\")\n",
    "parseResponse(translator(phrase5))\n",
    "\n",
    "translator = pipeline(\"translation_qu_to_es\", model=\"checkpoint-5500\")\n",
    "parseResponse(translator(phrase6))\n",
    "\n",
    "translator = pipeline(\"translation_qu_to_es\", model=\"checkpoint-5500\")\n",
    "parseResponse(translator(phrase7))\n",
    "\n",
    "translator = pipeline(\"translation_qu_to_es\", model=\"checkpoint-5500\")\n",
    "parseResponse(translator(phrase8))\n",
    "\n",
    "translator = pipeline(\"translation_qu_to_es\", model=\"checkpoint-5500\")\n",
    "parseResponse(translator(phrase9))\n",
    "\n",
    "translator = pipeline(\"translation_qu_to_es\", model=\"checkpoint-5500\")\n",
    "parseResponse(translator(phrase10))"
   ]
  },
  {
   "cell_type": "code",
   "execution_count": 3,
   "id": "ad5b216e-4c3c-44e3-905c-1877f65b3283",
   "metadata": {},
   "outputs": [
    {
     "name": "stdout",
     "output_type": "stream",
     "text": [
      "[['Qué', 'es', 'ayudar', 'a', 'las', 'ao'], ['Qué', 'es', 'ayudar?'], ['Y', 'es', 'ayuda'], ['Por', 'eso,', 'es', 'el', 'ao', 'a', 'e'], ['Y', 'es', 'el', 'ao,', 'y', 'el', 'a'], ['Qué', 'es', 'el', 'ao', 'de', 'San', 'Isidrop'], ['Qué', 'es', 'ayudar', 'a', 'la', 'vida,'], ['Qué', 'es', 'el', 'futbol', 'y', 'el', 'eje'], ['Y', 'es', 'el', 'ao?'], ['Estos', 'esos?']]\n"
     ]
    }
   ],
   "source": [
    "print(modelTranslations)"
   ]
  },
  {
   "cell_type": "code",
   "execution_count": 4,
   "id": "7b3c3590-8e4d-4e59-9f0a-0be0374b44e3",
   "metadata": {},
   "outputs": [],
   "source": [
    "reference = [ \"yo como carne\".split(),\"¿quien eres?\".split(), \"En nuestra casa de estudios\".split(), \"El profesor y sus alumnos están en el aula.\".split(), \"Estamos bien, mi profesor. ¿Y tú?\".split(), \"Yo, por mi parte, vivo en San Isidro.\".split(), \"Yo suelo cocinar para mi mamá, ¿y tú, oye, Ricardo?\".split(), \"Sí, yo suelo jugar fútbol.\".split(), \"¿Cuándo vas a terminar la revista?\".split(), \"¿Cómo está?\".split()]\n"
   ]
  },
  {
   "cell_type": "code",
   "execution_count": 5,
   "id": "38ff3f18-5e7f-43b2-9653-7ad09026b9f5",
   "metadata": {},
   "outputs": [
    {
     "name": "stdout",
     "output_type": "stream",
     "text": [
      "[['yo', 'como', 'carne'], ['¿quien', 'eres?'], ['En', 'nuestra', 'casa', 'de', 'estudios'], ['El', 'profesor', 'y', 'sus', 'alumnos', 'están', 'en', 'el', 'aula.'], ['Estamos', 'bien,', 'mi', 'profesor.', '¿Y', 'tú?'], ['Yo,', 'por', 'mi', 'parte,', 'vivo', 'en', 'San', 'Isidro.'], ['Yo', 'suelo', 'cocinar', 'para', 'mi', 'mamá,', '¿y', 'tú,', 'oye,', 'Ricardo?'], ['Sí,', 'yo', 'suelo', 'jugar', 'fútbol.'], ['¿Cuándo', 'vas', 'a', 'terminar', 'la', 'revista?'], ['¿Cómo', 'está?']]\n"
     ]
    }
   ],
   "source": [
    "print(reference)"
   ]
  },
  {
   "cell_type": "code",
   "execution_count": 14,
   "id": "6b178fb1-4f50-4cd3-b166-c60ac160bcf5",
   "metadata": {},
   "outputs": [
    {
     "name": "stdout",
     "output_type": "stream",
     "text": [
      "1.1640469867513693e-231\n",
      "0\n",
      "0\n",
      "1.331960397810445e-231\n",
      "1.331960397810445e-231\n",
      "0\n",
      "1.1640469867513693e-231\n",
      "1.1200407237786664e-231\n",
      "0\n",
      "0\n",
      "Average BLEU score:  0\n"
     ]
    }
   ],
   "source": [
    "from nltk.translate.bleu_score import sentence_bleu\n",
    "avg = 0\n",
    "\n",
    "for value,modelTranslation in zip(reference,modelTranslations):\n",
    "    score = sentence_bleu(value, modelTranslation)\n",
    "    avg = avg + score\n",
    "    print(score)\n",
    "\n",
    "print(\"Average BLEU score: \", score/10)"
   ]
  },
  {
   "cell_type": "code",
   "execution_count": null,
   "id": "fe570392-f622-40dd-b3b7-53d5a9ee56a9",
   "metadata": {},
   "outputs": [],
   "source": []
  }
 ],
 "metadata": {
  "kernelspec": {
   "display_name": "Python 3 (ipykernel)",
   "language": "python",
   "name": "python3"
  },
  "language_info": {
   "codemirror_mode": {
    "name": "ipython",
    "version": 3
   },
   "file_extension": ".py",
   "mimetype": "text/x-python",
   "name": "python",
   "nbconvert_exporter": "python",
   "pygments_lexer": "ipython3",
   "version": "3.11.5"
  }
 },
 "nbformat": 4,
 "nbformat_minor": 5
}
